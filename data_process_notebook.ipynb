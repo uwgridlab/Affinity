{
 "cells": [
  {
   "cell_type": "code",
   "execution_count": 18,
   "metadata": {},
   "outputs": [],
   "source": [
    "# this is a first pass at a data extraction script in python\n",
    "\n",
    "# import necessary modules \n",
    "\n",
    "import numpy as np\n",
    "import matplotlib.pyplot as plt\n",
    "import json \n",
    "import scipy as scipy\n",
    "import scipy.io as scipyio\n",
    "\n",
    "\n",
    "# define complex encoder class - from python docs\n",
    "class ComplexEncoder(json.JSONEncoder):\n",
    "    def default(self, obj):\n",
    "        if isinstance(obj, complex):\n",
    "            return [obj.real, obj.imag]\n",
    "         # Let the base class default method raise the TypeError\n",
    "            return json.JSONEncoder.default(self, obj)\n",
    "\n",
    "# define arr2json dump function \n",
    "def arr2json(arr):\n",
    "    return json.dumps(arr.tolist())\n",
    "    \n",
    "    \n",
    "# load data \n",
    "data = scipyio.loadmat('bcipaperdata_forribbons_dataNONAN.mat')\n",
    "#data = scipy.io.loadmat('d_854490.mat')\n",
    "#data = scipy.io.loadmat('d.mat')\n",
    "\n",
    "# subjects\n",
    "\n",
    "#Columns 1 through 6\n",
    "\n",
    " #   '854490'    '8adc5c'    '979eab'    '9ab7ab'    '9d10c8'    'a3da50'\n",
    "\n",
    " # Columns 7 through 8\n",
    "\n",
    "  #  'a9952e'    'd5cd55'\n",
    "\n",
    "\n",
    "data_a = np.array(data['dataNew'])\n",
    "data_a_complex = np.add(data_a,0.j)\n",
    "data_a_complex_trans = np.transpose(data_a_complex,[2,0,1])\n",
    "\n",
    "#B = A + A.T - np.diag(np.diag(A))\n",
    "\n",
    "\n",
    "# conver to list\n",
    "data_reflect = data_a_complex_trans\n",
    "for i in range(0,len(data_a_complex_trans)):\n",
    "    data_reflect[i] = data_a_complex_trans[i] + data_a_complex_trans[i].T -np.diag(np.diag(data_a_complex_trans[i]))\n",
    "     \n",
    "    \n",
    "dataList = data_reflect.tolist()\n",
    "\n",
    "# iterate through list, make fake complex\n",
    "#for i in range(0,len(dataList)):\n",
    " #   for j in range(0,len(dataList[i])):\n",
    "  #      for k in range(0,len(dataList[i][j])):\n",
    "   #         dataList[i][j][k] = [dataList[i][j][k]]\n",
    "            \n",
    "# conver to encoded\n",
    "dataEncode = ComplexEncoder().encode(dataList)\n",
    "\n",
    "# write out to file \n",
    "with open('data_bcipaperdata.txt', 'w') as outfile:\n",
    "    json.dump(dataEncode, outfile)\n",
    "    \n"
   ]
  },
  {
   "cell_type": "code",
   "execution_count": 4,
   "metadata": {
    "collapsed": true
   },
   "outputs": [],
   "source": [
    "%qtconsole"
   ]
  },
  {
   "cell_type": "code",
   "execution_count": null,
   "metadata": {
    "collapsed": true
   },
   "outputs": [],
   "source": []
  }
 ],
 "metadata": {
  "kernelspec": {
   "display_name": "Python 3",
   "language": "python",
   "name": "python3"
  },
  "language_info": {
   "codemirror_mode": {
    "name": "ipython",
    "version": 3
   },
   "file_extension": ".py",
   "mimetype": "text/x-python",
   "name": "python",
   "nbconvert_exporter": "python",
   "pygments_lexer": "ipython3",
   "version": "3.6.1"
  }
 },
 "nbformat": 4,
 "nbformat_minor": 2
}
